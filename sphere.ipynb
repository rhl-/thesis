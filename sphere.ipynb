{
 "cells": [
  {
   "cell_type": "code",
   "execution_count": 1,
   "metadata": {
    "collapsed": false
   },
   "outputs": [
    {
     "name": "stdout",
     "output_type": "stream",
     "text": [
      "/Users/rhl/code/ctl/build/python\n"
     ]
    }
   ],
   "source": [
    "cd ~/code/ctl/build/python"
   ]
  },
  {
   "cell_type": "code",
   "execution_count": 2,
   "metadata": {
    "collapsed": false
   },
   "outputs": [],
   "source": [
    "%matplotlib inline\n",
    "import ctl\n",
    "import itertools"
   ]
  },
  {
   "cell_type": "code",
   "execution_count": 3,
   "metadata": {
    "collapsed": false
   },
   "outputs": [],
   "source": [
    "%matplotlib inline\n",
    "import numpy as np\n",
    "import matplotlib.pyplot as plt\n",
    "from matplotlib.tri import Triangulation\n",
    "from mpl_toolkits.mplot3d import Axes3D\n",
    "from scipy.spatial import ConvexHull\n",
    "def sphere_sample(N, dim=4):\n",
    "    norm = np.random.normal\n",
    "    normal_deviates = norm(size=(dim, N))\n",
    "    radius = np.sqrt((normal_deviates**2).sum(axis=0))\n",
    "    return (normal_deviates/radius).T"
   ]
  },
  {
   "cell_type": "code",
   "execution_count": 4,
   "metadata": {
    "collapsed": false
   },
   "outputs": [],
   "source": [
    "pts = np.array([[1.0,0,0],[-1,0,0], [0,1,0],[0,-1,0],[0,0,1],[0,0,-1]])\n",
    "K = ctl.Simplicial_complex([ctl.Abstract_simplex(s.tolist()) for s in ConvexHull(pts).simplices])"
   ]
  },
  {
   "cell_type": "code",
   "execution_count": 5,
   "metadata": {
    "collapsed": true
   },
   "outputs": [],
   "source": [
    "def plot_2skel(X, K):\n",
    "    X -= X.mean(axis=0)\n",
    "    triangles = np.array([list(s) for (s,d) in K if s.dimension() == 2])\n",
    "    rad = np.linalg.norm(X, axis=1)\n",
    "    zen = np.arccos(X[:,-1] / rad)\n",
    "    azi = np.arctan2(X[:,1], X[:,0])\n",
    "    tris = Triangulation(zen, azi)\n",
    "    fig = plt.figure()\n",
    "    ax  = fig.add_subplot(111, projection='3d')\n",
    "    ax.plot_trisurf(X[:,0], X[:,1], X[:,2], triangles=triangles, cmap=plt.cm.bone)\n",
    "    plt.show()\n"
   ]
  },
  {
   "cell_type": "code",
   "execution_count": 6,
   "metadata": {
    "collapsed": false
   },
   "outputs": [
    {
     "data": {
      "image/png": "[encoded data removed]",
      "text/plain": [
       "<matplotlib.figure.Figure at 0x11047d6d0>"
      ]
     },
     "metadata": {},
     "output_type": "display_data"
    }
   ],
   "source": [
    "plot_2skel(pts,K)"
   ]
  },
  {
   "cell_type": "code",
   "execution_count": 7,
   "metadata": {
    "collapsed": false
   },
   "outputs": [
    {
     "name": "stdout",
     "output_type": "stream",
     "text": [
      "0 1\n",
      "1 2\n",
      "2 3\n"
     ]
    }
   ],
   "source": [
    "for (i,x) in enumerate([1,2,3]):\n",
    "    print i, x"
   ]
  },
  {
   "cell_type": "code",
   "execution_count": 8,
   "metadata": {
    "collapsed": false
   },
   "outputs": [],
   "source": [
    "cover1 = {ctl.Abstract_simplex([int(x) for x in cell]): int(np.dot(1*(np.sum([[pts[x,:]] for x in cell],axis=0)/3.0 > 0),(0,1.0,2))[0]) for (cell,d) in K if cell.dimension()==2}"
   ]
  },
  {
   "cell_type": "code",
   "execution_count": 9,
   "metadata": {
    "collapsed": false
   },
   "outputs": [],
   "source": [
    "cover = dict()\n",
    "for (sigma, d) in K:\n",
    "    cover[sigma]=list()\n",
    "    for (tau,s) in cover1.iteritems():\n",
    "        if (set(sigma).issubset(set(tau))) is True:\n",
    "            if s not in cover[sigma]:\n",
    "                cover[sigma].append(s)\n",
    "            \n",
    "blowup = ctl.Prod_simplicial_complex()\n",
    "for (sigma,taulst) in cover.iteritems():\n",
    "    tau = ctl.Abstract_simplex(set(taulst))\n",
    "    cell = ctl.Simplex_product(sigma, tau)\n",
    "    blowup.insert_closed_cell(cell)"
   ]
  },
  {
   "cell_type": "code",
   "execution_count": 10,
   "metadata": {
    "collapsed": false
   },
   "outputs": [
    {
     "name": "stdout",
     "output_type": "stream",
     "text": [
      "[5] --> [1, 0]\n",
      "[1, 5] --> [0, 1]\n",
      "[0, 2, 4] --> [3]\n",
      "[1, 2, 4] --> [3]\n",
      "[0] --> [1, 3, 0, 2]\n",
      "[3, 4] --> [2]\n",
      "[1, 3, 4] --> [2]\n",
      "[0, 3, 4] --> [2]\n",
      "[1, 4] --> [3, 2]\n",
      "[4] --> [3, 2]\n",
      "[1] --> [3, 0, 1, 2]\n",
      "[0, 2] --> [1, 3]\n",
      "[0, 5] --> [1, 0]\n",
      "[1, 3, 5] --> [0]\n",
      "[0, 4] --> [3, 2]\n",
      "[2, 4] --> [3]\n",
      "[2] --> [3, 1]\n",
      "[0, 3, 5] --> [0]\n",
      "[1, 2, 5] --> [1]\n",
      "[0, 3] --> [0, 2]\n",
      "[3] --> [0, 2]\n",
      "[3, 5] --> [0]\n",
      "[1, 3] --> [0, 2]\n",
      "[0, 2, 5] --> [1]\n",
      "[2, 5] --> [1]\n",
      "[1, 2] --> [3, 1]\n"
     ]
    }
   ],
   "source": [
    "for (k,v) in cover.iteritems():\n",
    "    print k.__str__(), \"-->\", v"
   ]
  },
  {
   "cell_type": "code",
   "execution_count": 11,
   "metadata": {
    "collapsed": false
   },
   "outputs": [],
   "source": [
    "def ss_col_i(blowup, i): \n",
    "    lst = [cell for (cell,data) in blowup if cell.second_cell().dimension() == i]\n",
    "    sc = ctl.Prod_simplicial_complex()\n",
    "    bd = ctl.Simplex_boundary()\n",
    "    for pd in lst:\n",
    "        sigma = pd.first_cell()\n",
    "        tau = pd.second_cell()\n",
    "        for rho in bd(sigma):\n",
    "            sc.insert_open_cell(ctl.Simplex_product(rho.cell(), tau))\n",
    "        sc.insert_open_cell(ctl.Simplex_product(sigma, tau))\n",
    "    return sc"
   ]
  },
  {
   "cell_type": "code",
   "execution_count": 12,
   "metadata": {
    "collapsed": false
   },
   "outputs": [
    {
     "data": {
      "text/plain": [
       "[1L, 0L, 1L, 0L]"
      ]
     },
     "execution_count": 12,
     "metadata": {},
     "output_type": "execute_result"
    }
   ],
   "source": [
    "ctl.homology(blowup)"
   ]
  },
  {
   "cell_type": "code",
   "execution_count": 13,
   "metadata": {
    "collapsed": false
   },
   "outputs": [],
   "source": [
    "sc0 = ss_col_i(blowup, 0)\n",
    "sc1 =  ss_col_i(blowup, 1)\n",
    "sc2 = ss_col_i(blowup, 2)\n",
    "sc3 = ss_col_i(blowup, 3)"
   ]
  },
  {
   "cell_type": "code",
   "execution_count": 47,
   "metadata": {
    "collapsed": false
   },
   "outputs": [
    {
     "name": "stdout",
     "output_type": "stream",
     "text": [
      "44\n",
      "2\n",
      "0 [5]⊗[0]  \n",
      "1 [1]⊗[0]  \n",
      "2 [0]⊗[0]  \n",
      "3 [3]⊗[0]  \n",
      "4 [1]⊗[1]  \n",
      "5 [2]⊗[1]  \n",
      "6 [0]⊗[1]  \n",
      "7 [5]⊗[1]  \n",
      "8 [0]⊗[2]  \n",
      "9 [3]⊗[2]  \n",
      "10 [1]⊗[2]  \n",
      "11 [4]⊗[2]  \n",
      "12 [4]⊗[3]  \n",
      "13 [2]⊗[3]  \n",
      "14 [1]⊗[3]  \n",
      "15 [0]⊗[3]  \n",
      " \n",
      "0 [0, 3]⊗[0]  \n",
      "1 [1, 3]⊗[0]  \n",
      "2 [0, 5]⊗[0]  \n",
      "3 [1, 5]⊗[0]  \n",
      "4 [3, 5]⊗[0]  \n",
      "5 [0, 2]⊗[1]  \n",
      "6 [0, 5]⊗[1]  \n",
      "7 [1, 5]⊗[1]  \n",
      "8 [1, 2]⊗[1]  \n",
      "9 [2, 5]⊗[1]  \n",
      "10 [1, 3]⊗[2]  \n",
      "11 [1, 4]⊗[2]  \n",
      "12 [3, 4]⊗[2]  \n",
      "13 [0, 4]⊗[2]  \n",
      "14 [0, 3]⊗[2]  \n",
      "15 [2, 4]⊗[3]  \n",
      "16 [0, 2]⊗[3]  \n",
      "17 [1, 4]⊗[3]  \n",
      "18 [0, 4]⊗[3]  \n",
      "19 [1, 2]⊗[3]  \n",
      " \n",
      "0 [1, 3, 5]⊗[0]  \n",
      "1 [0, 3, 5]⊗[0]  \n",
      "2 [0, 2, 5]⊗[1]  \n",
      "3 [1, 2, 5]⊗[1]  \n",
      "4 [1, 3, 4]⊗[2]  \n",
      "5 [0, 3, 4]⊗[2]  \n",
      "6 [0, 2, 4]⊗[3]  \n",
      "7 [1, 2, 4]⊗[3]  \n",
      " \n",
      "----\n",
      "None\n",
      "24\n",
      "2\n",
      " \n",
      "0 [5]⊗[0, 1]  \n",
      "1 [1]⊗[0, 1]  \n",
      "2 [0]⊗[0, 1]  \n",
      "3 [1]⊗[0, 2]  \n",
      "4 [0]⊗[0, 2]  \n",
      "5 [3]⊗[0, 2]  \n",
      "6 [0]⊗[0, 3]  \n",
      "7 [1]⊗[0, 3]  \n",
      "8 [0]⊗[1, 2]  \n",
      "9 [1]⊗[1, 2]  \n",
      "10 [0]⊗[1, 3]  \n",
      "11 [1]⊗[1, 3]  \n",
      "12 [2]⊗[1, 3]  \n",
      "13 [1]⊗[2, 3]  \n",
      "14 [4]⊗[2, 3]  \n",
      "15 [0]⊗[2, 3]  \n",
      " \n",
      "0 [1, 5]⊗[0, 1]  \n",
      "1 [0, 5]⊗[0, 1]  \n",
      "2 [0, 3]⊗[0, 2]  \n",
      "3 [1, 3]⊗[0, 2]  \n",
      "4 [0, 2]⊗[1, 3]  \n",
      "5 [1, 2]⊗[1, 3]  \n",
      "6 [1, 4]⊗[2, 3]  \n",
      "7 [0, 4]⊗[2, 3]  \n",
      " \n",
      "----\n",
      "None\n",
      "8\n",
      "2\n",
      " \n",
      " \n",
      "0 [0]⊗[0, 1, 2]  \n",
      "1 [1]⊗[0, 1, 2]  \n",
      "2 [1]⊗[0, 1, 3]  \n",
      "3 [0]⊗[0, 1, 3]  \n",
      "4 [1]⊗[0, 2, 3]  \n",
      "5 [0]⊗[0, 2, 3]  \n",
      "6 [0]⊗[1, 2, 3]  \n",
      "7 [1]⊗[1, 2, 3]  \n",
      " \n",
      "----\n",
      "None\n",
      "2\n",
      "3\n",
      " \n",
      " \n",
      " \n",
      "0 [1]⊗[0, 1, 2, 3]  \n",
      "1 [0]⊗[0, 1, 2, 3]  \n",
      " \n",
      "----\n",
      "None\n"
     ]
    }
   ],
   "source": [
    "cmpr = lambda a,b: -1*(a.second_cell()<b.second_cell()) or (a.second_cell()==b.second_cell() and a.first_cell() < b.first_cell())\n",
    "def print_complex(sc):\n",
    "    print len(sc)\n",
    "    print sc.dimension()\n",
    "    dim_groups = {}\n",
    "    for dim in xrange(0,int(sc.dimension())+1):\n",
    "        dim_groups[dim] = []\n",
    "    for (elt,d) in sc:\n",
    "        dim_groups[elt.dimension()].append(elt)\n",
    "    for d in sorted(dim_groups.keys()):\n",
    "        for (i,elt) in enumerate(sorted(dim_groups[d], cmp=cmpr)):\n",
    "            print i,elt.__str__(), \" \"\n",
    "        print \" \"\n",
    "    print \"----\"\n",
    "print print_complex(sc0)\n",
    "print print_complex(sc1)\n",
    "print print_complex(sc2)\n",
    "print print_complex(sc3)"
   ]
  },
  {
   "cell_type": "code",
   "execution_count": 15,
   "metadata": {
    "collapsed": true
   },
   "outputs": [],
   "source": [
    "def factor_complex(cmplx):\n",
    "    f = ctl.Simplicial_complex()\n",
    "    for (pd, d) in cmplx:\n",
    "        f.insert_open_cell(pd.first_cell())\n",
    "    return f"
   ]
  },
  {
   "cell_type": "code",
   "execution_count": 46,
   "metadata": {
    "collapsed": false
   },
   "outputs": [
    {
     "name": "stdout",
     "output_type": "stream",
     "text": [
      "[1L, 0L, 0L]\n",
      "[1L, 0L]\n"
     ]
    }
   ],
   "source": [
    "(bti0, chains0) = ctl.homology(ctl.Simplicial_complex([c.first_cell() for (c, d) in sc0 if c.second_cell().front() == 0]), True)\n",
    "print bti0\n",
    "\n",
    "(bti1, chains1) = ctl.homology(ctl.Simplicial_complex([c.first_cell() for (c, d) in sc1 if set([0,2]).issubset(set(c.first_cell()))]), True)\n",
    "print bti1\n"
   ]
  },
  {
   "cell_type": "code",
   "execution_count": 45,
   "metadata": {
    "collapsed": false
   },
   "outputs": [
    {
     "name": "stdout",
     "output_type": "stream",
     "text": [
      "[4L, 0L, 0L]\n",
      "[1L, 9L, 0L]\n",
      "[2L, 0L, 2L]\n",
      "[2L, 0L, 0L, 0L]\n"
     ]
    }
   ],
   "source": [
    "(bti0, chains0) =  ctl.homology(ctl.Prod_simplicial_complex([c for (c,d) in sc0]), True)\n",
    "(bti1, chains1) =  ctl.homology(ctl.Prod_simplicial_complex([c for (c,d) in sc1]), True)\n",
    "(bti2, chains2) =  ctl.homology(ctl.Prod_simplicial_complex([c for (c,d) in sc2]), True)\n",
    "(bti3, chains3) =  ctl.homology(ctl.Prod_simplicial_complex([c for (c,d) in sc3]), True)\n",
    "print bti0\n",
    "print bti1\n",
    "print bti2\n",
    "print bti3"
   ]
  },
  {
   "cell_type": "code",
   "execution_count": 23,
   "metadata": {
    "collapsed": false
   },
   "outputs": [],
   "source": [
    "def print_generators(chains):\n",
    "    #for i in xrange(0,3):\n",
    "        for gen in chains:\n",
    "            #if gen[0].cell().first_cell().dimension() == i:\n",
    "                plus=\"\"\n",
    "                for t in gen:\n",
    "                    s = t.cell()\n",
    "                    print plus + s.__str__(),\n",
    "                    plus = \" + \"\n",
    "                print \"\""
   ]
  },
  {
   "cell_type": "code",
   "execution_count": 24,
   "metadata": {
    "collapsed": false
   },
   "outputs": [
    {
     "name": "stdout",
     "output_type": "stream",
     "text": [
      "[0] \n",
      "[0, 2]  + [0, 3]  + [1, 2]  + [1, 3] \n",
      "[0, 2]  + [0, 4]  + [1, 2]  + [1, 4] \n",
      "[0, 2]  + [0, 5]  + [1, 2]  + [1, 5] \n"
     ]
    }
   ],
   "source": [
    "print_generators(chains1)"
   ]
  },
  {
   "cell_type": "code",
   "execution_count": null,
   "metadata": {
    "collapsed": false
   },
   "outputs": [],
   "source": [
    "print_generators(chains0)\n",
    "print \"----\"\n",
    "print_generators(chains1)\n",
    "print \"----\"\n",
    "print_generators(chains2)\n",
    "print \"----\"\n",
    "print_generators(chains3)"
   ]
  },
  {
   "cell_type": "code",
   "execution_count": null,
   "metadata": {
    "collapsed": false
   },
   "outputs": [],
   "source": [
    "def plot_2skel(X, K):\n",
    "    X -= X.mean(axis=0)\n",
    "    triangles = np.array([list(s.first_cell()) for (s,d) in K if s.dimension() == 2])\n",
    "    rad = np.linalg.norm(X, axis=1)\n",
    "    zen = np.arccos(X[:,-1] / rad)\n",
    "    azi = np.arctan2(X[:,1], X[:,0])\n",
    "    tris = Triangulation(zen, azi)\n",
    "    fig = plt.figure()\n",
    "    ax  = fig.add_subplot(111, projection='3d')\n",
    "    ax.plot_trisurf(X[:,0], X[:,1], X[:,2], triangles=triangles)#, cmap=plt.cm.bone)\n",
    "    plt.show()"
   ]
  },
  {
   "cell_type": "code",
   "execution_count": null,
   "metadata": {
    "collapsed": false
   },
   "outputs": [],
   "source": [
    "plot_2skel(pts, sc1)"
   ]
  },
  {
   "cell_type": "code",
   "execution_count": null,
   "metadata": {
    "collapsed": false
   },
   "outputs": [],
   "source": [
    "plot_2skel(D, KY)"
   ]
  },
  {
   "cell_type": "code",
   "execution_count": null,
   "metadata": {
    "collapsed": false
   },
   "outputs": [],
   "source": [
    "plot_2skel(D, KI)"
   ]
  },
  {
   "cell_type": "code",
   "execution_count": null,
   "metadata": {
    "collapsed": false
   },
   "outputs": [],
   "source": [
    "ctl.homology(KX)"
   ]
  },
  {
   "cell_type": "code",
   "execution_count": null,
   "metadata": {
    "collapsed": false
   },
   "outputs": [],
   "source": [
    "ctl.homology(KY)"
   ]
  },
  {
   "cell_type": "code",
   "execution_count": null,
   "metadata": {
    "collapsed": false
   },
   "outputs": [],
   "source": [
    "ctl.homology(KI)"
   ]
  },
  {
   "cell_type": "code",
   "execution_count": null,
   "metadata": {
    "collapsed": false
   },
   "outputs": [],
   "source": [
    "Kcheck = ctl.Simplicial_complex()\n",
    "for (s,d) in KX:\n",
    "    Kcheck.insert_open_cell(s)\n",
    "for (s,d) in KY:\n",
    "    Kcheck.insert_open_cell(s)\n",
    "for (s,d) in KI:\n",
    "    Kcheck.insert_open_cell(s)\n",
    "print Kcheck.is_closed()\n",
    "ctl.homology(Kcheck)"
   ]
  },
  {
   "cell_type": "code",
   "execution_count": null,
   "metadata": {
    "collapsed": true
   },
   "outputs": [],
   "source": []
  }
 ],
 "metadata": {
  "kernelspec": {
   "display_name": "Python 2",
   "language": "python",
   "name": "python2"
  },
  "language_info": {
   "codemirror_mode": {
    "name": "ipython",
    "version": 2
   },
   "file_extension": ".py",
   "mimetype": "text/x-python",
   "name": "python",
   "nbconvert_exporter": "python",
   "pygments_lexer": "ipython2",
   "version": "2.7.10"
  }
 },
 "nbformat": 4,
 "nbformat_minor": 0
}
