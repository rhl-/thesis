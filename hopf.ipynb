{
 "cells": [
  {
   "cell_type": "code",
   "execution_count": 1,
   "metadata": {
    "collapsed": false
   },
   "outputs": [
    {
     "name": "stdout",
     "output_type": "stream",
     "text": [
      "/Users/rhl/code/ctl/build/python\n"
     ]
    }
   ],
   "source": [
    "cd ~/code/ctl/build/python"
   ]
  },
  {
   "cell_type": "code",
   "execution_count": 2,
   "metadata": {
    "collapsed": false
   },
   "outputs": [
    {
     "name": "stdout",
     "output_type": "stream",
     "text": [
      "Using matplotlib backend: MacOSX\n",
      "Populating the interactive namespace from numpy and matplotlib\n"
     ]
    }
   ],
   "source": [
    "%pylab\n",
    "import ctl\n",
    "import numpy as np\n",
    "import matplotlib.pyplot as plt\n",
    "from matplotlib import cm\n",
    "import mpl_toolkits.mplot3d.axes3d as axes3d\n",
    "from pylab import *"
   ]
  },
  {
   "cell_type": "code",
   "execution_count": 3,
   "metadata": {
    "collapsed": false
   },
   "outputs": [
    {
     "name": "stdout",
     "output_type": "stream",
     "text": [
      "{0: 'A1', 1: 'A0', 2: 'A2', 3: 'B0', 4: 'B1', 5: 'B2', 6: 'C2', 7: 'C1', 8: 'C0'}\n",
      "{'A1': 0, 'A0': 1, 'A2': 2, 'B0': 3, 'B1': 4, 'B2': 5, 'C2': 6, 'C1': 7, 'C0': 8}\n"
     ]
    }
   ],
   "source": [
    "A = [\"A0\", \"B0\", \"C0\", \"C1\",\n",
    "\"A0\", \"B0\", \"C0\", \"C2\",\n",
    "\"A0\", \"A1\", \"A2\", \"B1\",\n",
    "\"A0\", \"A1\", \"A2\", \"C1\",\n",
    "\"A2\", \"B2\", \"B0\", \"C2\",\n",
    "\"A2\", \"B2\", \"C2\", \"B1\"]\n",
    "f = dict()\n",
    "b = dict()\n",
    "for i,x in enumerate(set(A)):\n",
    "        f[i]=x\n",
    "        b[x]=i\n",
    "print f \n",
    "print b"
   ]
  },
  {
   "cell_type": "code",
   "execution_count": 4,
   "metadata": {
    "collapsed": false
   },
   "outputs": [
    {
     "data": {
      "text/plain": [
       "[1L, 1L, 0L, 0L]"
      ]
     },
     "execution_count": 4,
     "metadata": {},
     "output_type": "execute_result"
    }
   ],
   "source": [
    "solid_torus = ctl.Simplicial_complex([[1, 3, 8, 7],\n",
    "[1, 3, 8, 6],\n",
    "[1, 0, 2, 4],\n",
    "[1, 0, 2, 7],\n",
    "[2, 5, 3, 6],\n",
    "[2, 5, 6, 4]])\n",
    "ctl.homology(solid_torus) #Fig 1b"
   ]
  },
  {
   "cell_type": "code",
   "execution_count": 5,
   "metadata": {
    "collapsed": false
   },
   "outputs": [
    {
     "data": {
      "text/plain": [
       "[1L, 2L, 1L]"
      ]
     },
     "execution_count": 5,
     "metadata": {},
     "output_type": "execute_result"
    }
   ],
   "source": [
    "mxml = [[1, 2, 3],\n",
    "[2, 3, 5],#todo i am not right\n",
    "[3, 5, 6],\n",
    "[3, 8, 6],\n",
    "[1, 8, 6],\n",
    "[1, 2, 6],\n",
    "[0, 2, 4],\n",
    "[2, 4, 5],\n",
    "[4, 5, 6],\n",
    "[4, 6, 7],\n",
    "[2, 7, 6],\n",
    "[0, 2, 7],\n",
    "[1, 0, 4],\n",
    "[1, 3, 4],\n",
    "[3, 4, 7],\n",
    "[3, 8, 7],\n",
    "[1, 8, 7],\n",
    "[1, 0, 7]]\n",
    "torus = ctl.Simplicial_complex(mxml)\n",
    "ctl.homology(torus) #Fig 1a"
   ]
  },
  {
   "cell_type": "code",
   "execution_count": 6,
   "metadata": {
    "collapsed": false
   },
   "outputs": [
    {
     "name": "stdout",
     "output_type": "stream",
     "text": [
      "['A0', 'B0', 'B1']\n",
      "['A0', 'A2', 'B0']\n",
      "['B0', 'B1', 'C1']\n",
      "['B1', 'C1', 'C2']\n",
      "['A2', 'C1', 'C2']\n",
      "['A0', 'A2', 'C2']\n",
      "['A2', 'B0', 'B2']\n",
      "['A2', 'B1', 'B2']\n",
      "['A1', 'A2', 'B1']\n",
      "['A0', 'A1', 'B1']\n",
      "['B1', 'B2', 'C2']\n",
      "['B0', 'C0', 'C2']\n",
      "['A1', 'A2', 'C1']\n",
      "['B0', 'B2', 'C2']\n",
      "['B0', 'C0', 'C1']\n",
      "['A0', 'C0', 'C2']\n",
      "['A0', 'C0', 'C1']\n",
      "['A0', 'A1', 'C1']\n"
     ]
    },
    {
     "data": {
      "text/plain": [
       "([1L, 2L, 1L], [])"
      ]
     },
     "execution_count": 6,
     "metadata": {},
     "output_type": "execute_result"
    }
   ],
   "source": [
    "mxml=[\n",
    "\n",
    "[1, 4, 3],\n",
    "[1, 2, 3],\n",
    "[3, 4, 7],\n",
    "[4, 6, 7],\n",
    "[7, 6, 2],\n",
    "[1, 2, 6],\n",
    "[2, 3, 5],\n",
    "[2, 5, 4],\n",
    "[0, 2, 4],\n",
    "[1, 0, 4],\n",
    "[4, 5, 6],\n",
    "[6, 3, 8],\n",
    "[7, 2, 0],\n",
    "[6, 5, 3],\n",
    "[3, 8, 7],\n",
    "[1, 8, 6],\n",
    "[1, 8, 7],\n",
    "[1, 0, 7]\n",
    "]\n",
    "for x in mxml:\n",
    "    print sorted([f[z] for z in x])\n",
    "torus_more_faces = ctl.Simplicial_complex(mxml)\n",
    "ctl.homology(torus_more_faces, False, False)"
   ]
  },
  {
   "cell_type": "code",
   "execution_count": 39,
   "metadata": {
    "collapsed": false
   },
   "outputs": [
    {
     "name": "stdout",
     "output_type": "stream",
     "text": [
      "[1L, 2L, 1L, 0L]\n",
      "[1L, 1L, 1L, 0L]\n",
      "[1L, 0L, 2L, 0L]\n",
      "[['A1']]\n",
      "[['A1', 'A0', 'B1'], ['A1', 'A0', 'C1'], ['A1', 'A2', 'B1'], ['A1', 'A2', 'C1'], ['A0', 'B1', 'C2'], ['A0', 'C2', 'C0'], ['A0', 'C1', 'C0'], ['A2', 'B0', 'B2'], ['A2', 'B0', 'C1'], ['A2', 'B1', 'B2'], ['B0', 'B2', 'C2'], ['B0', 'C2', 'C0'], ['B0', 'C1', 'C0'], ['B1', 'B2', 'C2']]\n",
      "[['A0', 'A2', 'B0'], ['A0', 'A2', 'C2'], ['A0', 'B0', 'B1'], ['A0', 'B1', 'C2'], ['A2', 'B0', 'C1'], ['A2', 'C2', 'C1'], ['B0', 'B1', 'C1'], ['B1', 'C2', 'C1']]\n"
     ]
    }
   ],
   "source": [
    "b['D0']=9\n",
    "b['D1']=10\n",
    "b['D2']=11\n",
    "f[9]='D0'\n",
    "f[10]='D1'\n",
    "f[11]='D2'\n",
    "subcomplexV = set([b['A0'], b['A2'], b['B0'], b['B1'], b['C1'], b['C2']])\n",
    "V = [ smplx for (smplx,d) in torus_more_faces if set(smplx) <= subcomplexV ]\n",
    "V = V + [[b['A0'], b['A2'], b['C1']]]\n",
    "V = V + [[b['D0'], b['A0'], b['B1'], b['C2']]]\n",
    "V = V + [[b['D1'], b['A2'], b['B0'], b['C1']]]\n",
    "Vc = ctl.Simplicial_complex(V)\n",
    "(bti, chains) = ctl.homology(Vc, True)\n",
    "print bti\n",
    "subcomplexW = set([b['A0'], b['A1'], b['A2'], b['B0'], b['B1'], b['B2'], b['C0'], b['C1'], b['C2']])\n",
    "W = [ smplx for (smplx,d) in torus_more_faces if set(smplx) <= subcomplexW ]\n",
    "W = W + [[b['D1'], b['A2'], b['B0'], b['C1']]]\n",
    "Wc = ctl.Simplicial_complex(W)\n",
    "(bti, chains) = ctl.homology(Wc, True)\n",
    "print bti\n",
    "\n",
    "T = ctl.Simplicial_complex(W+V)\n",
    "(bti, chains) = ctl.homology(T, True)\n",
    "print bti\n",
    "for c in chains:\n",
    "    print [list([f[z] for z in elt.cell()]) for elt in c]"
   ]
  },
  {
   "cell_type": "code",
   "execution_count": null,
   "metadata": {
    "collapsed": false
   },
   "outputs": [],
   "source": [
    "flattori2 = flattori2 + [ list(smplx) + [10] for smplx in mxml]\n",
    "\n",
    "flattori2.append([b[s] for s in ['A0', 'B1', 'D0', 'C2']])\n",
    "flattori2.append([b[s] for s in ['A2', 'C1', 'D1', 'B0']])\n",
    "for s in sorted([sorted([f[z] for z in x]) for x in flattori2]):\n",
    "    print s\n",
    "print ctl.homology(ctl.Simplicial_complex(flattori2))"
   ]
  },
  {
   "cell_type": "code",
   "execution_count": null,
   "metadata": {
    "collapsed": true
   },
   "outputs": [],
   "source": [
    "solid_torus_more_faces=[]\n",
    "lowernbhrs = dict()\n",
    "for v in f.keys():\n",
    "    lowernbhrs[v] = set()\n",
    "for v in f.keys():\n",
    "    for s in mxml:\n",
    "        if v in s:\n",
    "            lowernbhrs[v] = lowernbhrs[v].union(set([z for z in s if z < v]))\n",
    "\n",
    "adj = dict()\n",
    "flattori2=[]\n",
    "for s in mxml:\n",
    "    adj[tuple(s)] = lowernbhrs[s[0]]\n",
    "    for u in s:\n",
    "        adj[tuple(s)] = adj[tuple(s)].intersection(lowernbhrs[u])\n",
    "    for v in adj[tuple(s)]:\n",
    "        news = list(s)\n",
    "        news.append(v)\n",
    "        flattori2.append(news)"
   ]
  }
 ],
 "metadata": {
  "kernelspec": {
   "display_name": "Python 2",
   "language": "python",
   "name": "python2"
  },
  "language_info": {
   "codemirror_mode": {
    "name": "ipython",
    "version": 2
   },
   "file_extension": ".py",
   "mimetype": "text/x-python",
   "name": "python",
   "nbconvert_exporter": "python",
   "pygments_lexer": "ipython2",
   "version": "2.7.10"
  }
 },
 "nbformat": 4,
 "nbformat_minor": 0
}
