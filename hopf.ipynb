{
 "cells": [
  {
   "cell_type": "code",
   "execution_count": 2,
   "metadata": {
    "collapsed": false
   },
   "outputs": [
    {
     "name": "stdout",
     "output_type": "stream",
     "text": [
      "/Users/rhl/code/ctl/build/python\n"
     ]
    }
   ],
   "source": [
    "cd ~/code/ctl/build/python"
   ]
  },
  {
   "cell_type": "code",
   "execution_count": 3,
   "metadata": {
    "collapsed": false
   },
   "outputs": [
    {
     "name": "stdout",
     "output_type": "stream",
     "text": [
      "Using matplotlib backend: MacOSX\n",
      "Populating the interactive namespace from numpy and matplotlib\n"
     ]
    }
   ],
   "source": [
    "%pylab\n",
    "import ctl\n",
    "import numpy as np\n",
    "import matplotlib.pyplot as plt\n",
    "from matplotlib import cm\n",
    "import mpl_toolkits.mplot3d.axes3d as axes3d\n",
    "from pylab import *"
   ]
  },
  {
   "cell_type": "code",
   "execution_count": 4,
   "metadata": {
    "collapsed": false
   },
   "outputs": [
    {
     "name": "stdout",
     "output_type": "stream",
     "text": [
      "{0: 'A1', 1: 'A0', 2: 'A2', 3: 'B0', 4: 'B1', 5: 'B2', 6: 'C2', 7: 'C1', 8: 'C0'}\n",
      "{'A1': 0, 'A0': 1, 'A2': 2, 'B0': 3, 'B1': 4, 'B2': 5, 'C2': 6, 'C1': 7, 'C0': 8}\n"
     ]
    }
   ],
   "source": [
    "A = [\"A0\", \"B0\", \"C0\", \"C1\",\n",
    "\"A0\", \"B0\", \"C0\", \"C2\",\n",
    "\"A0\", \"A1\", \"A2\", \"B1\",\n",
    "\"A0\", \"A1\", \"A2\", \"C1\",\n",
    "\"A2\", \"B2\", \"B0\", \"C2\",\n",
    "\"A2\", \"B2\", \"C2\", \"B1\"]\n",
    "f = dict()\n",
    "b = dict()\n",
    "for i,x in enumerate(set(A)):\n",
    "        f[i]=x\n",
    "        b[x]=i\n",
    "print f \n",
    "print b"
   ]
  },
  {
   "cell_type": "code",
   "execution_count": 15,
   "metadata": {
    "collapsed": false
   },
   "outputs": [
    {
     "name": "stdout",
     "output_type": "stream",
     "text": [
      "['A0', 'A1', 'A2', 'B1']\n",
      "['A0', 'A1', 'A2', 'C1']\n",
      "['A0', 'B0', 'C0', 'C1']\n",
      "['A0', 'B0', 'C0', 'C2']\n",
      "['A2', 'B2', 'B0', 'C2']\n",
      "['A2', 'B2', 'C2', 'B1']\n"
     ]
    },
    {
     "data": {
      "text/plain": [
       "[1L, 1L, 0L, 0L]"
      ]
     },
     "execution_count": 15,
     "metadata": {},
     "output_type": "execute_result"
    }
   ],
   "source": [
    "solid_torus = [[1, 3, 8, 7],\n",
    "[1, 3, 8, 6],\n",
    "[1, 0, 2, 4],\n",
    "[1, 0, 2, 7],\n",
    "[2, 5, 3, 6],\n",
    "[2, 5, 6, 4]]\n",
    "tmf = sorted([[f[z] for z in s] for s in solid_torus])\n",
    "for s in tmf:\n",
    "    print s\n",
    "ctl.homology(solid_torus,True,True)"
   ]
  },
  {
   "cell_type": "code",
   "execution_count": 14,
   "metadata": {
    "collapsed": false
   },
   "outputs": [
    {
     "name": "stdout",
     "output_type": "stream",
     "text": [
      "['A0', 'A1', 'B1']\n",
      "['A0', 'A1', 'C1']\n",
      "['A0', 'A2', 'B0']\n",
      "['A0', 'A2', 'C2']\n",
      "['A0', 'B0', 'B1']\n",
      "['A0', 'C0', 'C1']\n",
      "['A0', 'C0', 'C2']\n",
      "['A1', 'A2', 'B1']\n",
      "['A1', 'A2', 'C1']\n",
      "['A2', 'B0', 'B2']\n",
      "['A2', 'B1', 'B2']\n",
      "['A2', 'C1', 'C2']\n",
      "['B0', 'B1', 'C1']\n",
      "['B0', 'B2', 'C2']\n",
      "['B0', 'C0', 'C1']\n",
      "['B0', 'C0', 'C2']\n",
      "['B1', 'B2', 'C2']\n",
      "['B1', 'C2', 'C2']\n"
     ]
    },
    {
     "data": {
      "text/plain": [
       "[1L, 2L, 1L]"
      ]
     },
     "execution_count": 14,
     "metadata": {},
     "output_type": "execute_result"
    }
   ],
   "source": [
    "torus = [[1, 2, 3],\n",
    "[2, 3, 5],\n",
    "[3, 5, 6],\n",
    "[3, 8, 6],\n",
    "[1, 8, 6],\n",
    "[1, 2, 6],\n",
    "[0, 2, 4],\n",
    "[2, 4, 5],\n",
    "[4, 5, 6],\n",
    "[4, 6, 6],\n",
    "[2, 7, 6],\n",
    "[0, 2, 7],\n",
    "[1, 0, 4],\n",
    "[1, 3, 4],\n",
    "[3, 4, 7],\n",
    "[3, 8, 7],\n",
    "[1, 8, 7],\n",
    "[1, 0, 7]]\n",
    "tmf = sorted([[f[z] for z in s] for s in torus])\n",
    "for s in tmf:\n",
    "    print s\n",
    "ctl.homology(torus,True,True)"
   ]
  },
  {
   "cell_type": "code",
   "execution_count": 13,
   "metadata": {
    "collapsed": false
   },
   "outputs": [
    {
     "name": "stdout",
     "output_type": "stream",
     "text": [
      "['A0', 'A1', 'B1']\n",
      "['A0', 'A1', 'C1']\n",
      "['A0', 'A2', 'B0']\n",
      "['A0', 'A2', 'C2']\n",
      "['A0', 'B1', 'B0']\n",
      "['A0', 'C0', 'C1']\n",
      "['A0', 'C0', 'C2']\n",
      "['A1', 'A0', 'A2']\n",
      "['A1', 'A2', 'B1']\n",
      "['A2', 'B0', 'B2']\n",
      "['A2', 'B0', 'C1']\n",
      "['A2', 'B2', 'B1']\n",
      "['A2', 'B2', 'C1']\n",
      "['B0', 'B1', 'B2']\n",
      "['B0', 'B1', 'C1']\n",
      "['B0', 'C0', 'C1']\n",
      "['B1', 'B2', 'C2']\n",
      "['B1', 'C1', 'C2']\n",
      "['C1', 'A2', 'A1']\n",
      "['C1', 'C2', 'A2']\n",
      "['C2', 'B0', 'C0']\n",
      "['C2', 'B2', 'B0']\n",
      "['C2', 'C1', 'C0']\n"
     ]
    },
    {
     "data": {
      "text/plain": [
       "[1L, 9L, 0L]"
      ]
     },
     "execution_count": 13,
     "metadata": {},
     "output_type": "execute_result"
    }
   ],
   "source": [
    "torus_more_faces = [\n",
    "[0,1,2], \n",
    "[2,5,7],\n",
    "[1, 4, 3],\n",
    "[1, 2, 3],\n",
    "[3, 4, 7],\n",
    "[4, 7, 6],\n",
    "[7, 6, 2],\n",
    "[1, 2, 6],\n",
    "[2, 3, 5],\n",
    "[2, 5, 4],\n",
    "[0, 2, 4],\n",
    "[1, 0, 4],\n",
    "[4, 5, 6],\n",
    "[6, 3, 8],\n",
    "[7, 2, 0],\n",
    "[6, 5, 3],\n",
    "[3, 8, 7],\n",
    "[1, 8, 6],\n",
    "[1, 8, 7],\n",
    "[1, 0, 7],\n",
    "[2,3,7],\n",
    "[3,4,5],\n",
    "[6,7,8]\n",
    "]\n",
    "tmf = sorted([[f[z] for z in s] for s in torus_more_faces])\n",
    "for s in tmf:\n",
    "    print s\n",
    "ctl.homology(torus_more_faces, False, False)"
   ]
  },
  {
   "cell_type": "code",
   "execution_count": 9,
   "metadata": {
    "collapsed": false
   },
   "outputs": [
    {
     "name": "stdout",
     "output_type": "stream",
     "text": [
      "A1 []\n",
      "A0 ['A1']\n",
      "A2 ['A1', 'A0']\n",
      "B0 ['A0', 'A2']\n",
      "B1 ['A1', 'A0', 'A2', 'B0']\n",
      "B2 ['A2', 'B0', 'B1']\n",
      "C2 ['A0', 'A2', 'B0', 'B1', 'B2']\n",
      "C1 ['A1', 'A0', 'A2', 'B0', 'B1', 'B2', 'C2']\n",
      "C0 ['A0', 'B0', 'C2', 'C1']\n",
      "flattori2\n",
      "['A0', 'A2', 'B0', 'C1']\n",
      "['A0', 'A2', 'C1', 'C2']\n",
      "['A0', 'B0', 'B1', 'C1']\n",
      "['A0', 'B0', 'C0', 'C2']\n",
      "['A0', 'B0', 'C0', 'C1']\n",
      "['A0', 'B1', 'C1', 'C2']\n",
      "['A0', 'B1', 'C2', 'D0']\n",
      "['A0', 'C0', 'C1', 'C2']\n",
      "['A2', 'B0', 'B1', 'B2']\n",
      "['A2', 'B0', 'B1', 'C1']\n",
      "['A2', 'B0', 'B2', 'C2']\n",
      "['A2', 'B1', 'B2', 'C2']\n",
      "['A2', 'B1', 'C1', 'C2']\n",
      "['B0', 'B1', 'B2', 'C2']\n",
      "['B0', 'B1', 'C1', 'C2']\n",
      "['B0', 'C0', 'C1', 'C2']\n"
     ]
    },
    {
     "data": {
      "text/plain": [
       "[1L, 0L, 0L, 0L]"
      ]
     },
     "execution_count": 9,
     "metadata": {},
     "output_type": "execute_result"
    }
   ],
   "source": [
    "solid_torus_more_faces=[]\n",
    "lowernbhrs = dict()\n",
    "for v in f.keys():\n",
    "    lowernbhrs[v] = set()\n",
    "for v in f.keys():\n",
    "    for s in torus_more_faces:\n",
    "        if v in s:\n",
    "            lowernbhrs[v] = lowernbhrs[v].union(set([z for z in s if z < v]))\n",
    "for k in lowernbhrs.keys():\n",
    "    print f[k], [f[r] for r in lowernbhrs[k]]\n",
    "adj = dict()\n",
    "flattori2=[]\n",
    "for s in torus_more_faces:\n",
    "    adj[tuple(s)] = lowernbhrs[s[0]]\n",
    "    for u in s:\n",
    "        adj[tuple(s)] = adj[tuple(s)].intersection(lowernbhrs[u])\n",
    "    for v in adj[tuple(s)]:\n",
    "        news = list(s)\n",
    "        news.append(v)\n",
    "        flattori2.append(news)\n",
    "b['D0']=9\n",
    "b['D1']=10\n",
    "f[9]='D0'\n",
    "f[10]='D1'\n",
    "s1 = ['D0', 'A0', 'C2', 'B1']\n",
    "#s2 = ['A2', 'C1', 'D1', 'B0']\n",
    "flattori2.append([b[s] for s in s1])\n",
    "#flattori2.append([b[s] for s in s2])\n",
    "print \"flattori2\" \n",
    "flattori2 = sorted([sorted(x) for x in flattori2])\n",
    "for s in sorted(flattori2):\n",
    "    print sorted([f[z] for z in s])\n",
    "ctl.homology(flattori2, True, True)"
   ]
  },
  {
   "cell_type": "code",
   "execution_count": null,
   "metadata": {
    "collapsed": true
   },
   "outputs": [],
   "source": [
    "\n",
    "N = 600\n",
    "dim = 4\n",
    "\n",
    "norm = np.random.normal\n",
    "normal_deviates = norm(size=(dim, N))\n",
    "\n",
    "radius = np.sqrt((normal_deviates**2).sum(axis=0))\n",
    "points = normal_deviates/radius\n",
    "isinteractive()\n",
    "\n",
    "fig = plt.figure()\n",
    "ax = fig.gca(projection='3d')\n",
    "colors = iter(cm.rainbow(points[3]))\n",
    "surf = ax.scatter(points[0], points[1], points[2], color=next(colors))\n",
    "\n",
    "h = lambda l : [numpy.square(l[0]) + numpy.square(l[1])**2 - numpy.square(l[2])**2 - numpy.square(l[3])**2, 2*(l[0]*l[3] + l[1]*l[2]), 2*(l[1]*l[3]-l[0]*l[3])]"
   ]
  },
  {
   "cell_type": "code",
   "execution_count": null,
   "metadata": {
    "collapsed": true
   },
   "outputs": [],
   "source": [
    "f = h(points)\n",
    "fig = plt.figure()\n",
    "ax = fig.gca(projection='3d')\n",
    "surf = ax.scatter(f[0],f[1])\n",
    "X = np.where(f[0] > .5)\n",
    "print X\n",
    "Y = np.where(f[0] < .6)\n",
    "print Y"
   ]
  },
  {
   "cell_type": "code",
   "execution_count": null,
   "metadata": {
    "collapsed": true
   },
   "outputs": [],
   "source": [
    "list(set(X[0].tolist()).intersection(set(Y[0].tolist())))\n",
    "from scipy.spatial import Delaunay, Voronoi\n",
    "D = Delaunay(points.T[X])"
   ]
  },
  {
   "cell_type": "code",
   "execution_count": null,
   "metadata": {
    "collapsed": true
   },
   "outputs": [],
   "source": [
    "print D\n",
    "D.simplices\n",
    "ctl.homology(D.simplices.tolist(),True,True)"
   ]
  }
 ],
 "metadata": {
  "kernelspec": {
   "display_name": "Python 2",
   "language": "python",
   "name": "python2"
  },
  "language_info": {
   "codemirror_mode": {
    "name": "ipython",
    "version": 2
   },
   "file_extension": ".py",
   "mimetype": "text/x-python",
   "name": "python",
   "nbconvert_exporter": "python",
   "pygments_lexer": "ipython2",
   "version": "2.7.10"
  }
 },
 "nbformat": 4,
 "nbformat_minor": 0
}
