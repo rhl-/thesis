{
 "cells": [
  {
   "cell_type": "code",
   "execution_count": 1,
   "metadata": {
    "collapsed": false
   },
   "outputs": [
    {
     "name": "stdout",
     "output_type": "stream",
     "text": [
      "/Users/rhl/code/ctl/build/python\n"
     ]
    }
   ],
   "source": [
    "cd ~/code/ctl/build/python"
   ]
  },
  {
   "cell_type": "code",
   "execution_count": 2,
   "metadata": {
    "collapsed": false
   },
   "outputs": [],
   "source": [
    "%matplotlib inline\n",
    "import ctl\n",
    "import numpy as np\n",
    "import matplotlib.pyplot as plt\n",
    "from matplotlib.tri import Triangulation\n",
    "from mpl_toolkits.mplot3d import Axes3D\n",
    "from scipy.spatial import ConvexHull\n",
    "def sphere_sample(N, dim=4):\n",
    "    norm = np.random.normal\n",
    "    normal_deviates = norm(size=(dim, N))\n",
    "    radius = np.sqrt((normal_deviates**2).sum(axis=0))\n",
    "    return (normal_deviates/radius).T\n",
    "\n",
    "h = lambda l : [np.square(l[0]) + np.square(l[1])**2 - np.square(l[2])**2 - np.square(l[3])**2, 2*(l[0]*l[3] + l[1]*l[2]), 2*(l[1]*l[3]-l[0]*l[3])]"
   ]
  },
  {
   "cell_type": "code",
   "execution_count": 3,
   "metadata": {
    "collapsed": false
   },
   "outputs": [],
   "source": [
    "D = sphere_sample(1000)\n",
    "f = h(D.T)"
   ]
  },
  {
   "cell_type": "code",
   "execution_count": 4,
   "metadata": {
    "collapsed": false
   },
   "outputs": [],
   "source": [
    "K = ctl.Simplicial_complex([ctl.Abstract_simplex(s.tolist()) for s in ConvexHull(D).simplices])"
   ]
  },
  {
   "cell_type": "code",
   "execution_count": 5,
   "metadata": {
    "collapsed": false
   },
   "outputs": [
    {
     "data": {
      "text/plain": [
       "[1L, 0L, 0L, 1L]"
      ]
     },
     "execution_count": 5,
     "metadata": {},
     "output_type": "execute_result"
    }
   ],
   "source": [
    "ctl.homology(K)"
   ]
  },
  {
   "cell_type": "code",
   "execution_count": 6,
   "metadata": {
    "collapsed": false
   },
   "outputs": [
    {
     "data": {
      "text/plain": [
       "0.18812374707110741"
      ]
     },
     "execution_count": 6,
     "metadata": {},
     "output_type": "execute_result"
    }
   ],
   "source": [
    "np.median(f[0])"
   ]
  },
  {
   "cell_type": "code",
   "execution_count": 7,
   "metadata": {
    "collapsed": false
   },
   "outputs": [
    {
     "name": "stdout",
     "output_type": "stream",
     "text": [
      "28108\n"
     ]
    }
   ],
   "source": [
    "print K.size()"
   ]
  },
  {
   "cell_type": "code",
   "execution_count": 8,
   "metadata": {
    "collapsed": false
   },
   "outputs": [],
   "source": [
    "import line_profiler\n",
    "import IPython\n",
    "ip = IPython.get_ipython()\n",
    "ip.define_magic('lprun', line_profiler.magic_lprun)"
   ]
  },
  {
   "cell_type": "code",
   "execution_count": 9,
   "metadata": {
    "collapsed": false
   },
   "outputs": [],
   "source": [
    "def compute_blowup_pieces(K, f, h1=.11, h2=.18):\n",
    "    KX = ctl.Simplicial_complex()\n",
    "    KY = ctl.Simplicial_complex()\n",
    "    KI = ctl.Simplicial_complex()\n",
    "    for (i, (s,d)) in enumerate(K):\n",
    "        insX = False\n",
    "        insY = False\n",
    "        for vtx in s:\n",
    "            inX = (f[0][vtx] > h1)\n",
    "            inY = (f[0][vtx] < h2) \n",
    "            in_inter= inX and inY\n",
    "            if not insX and inX:\n",
    "                KX.insert_closed_cell(s)\n",
    "                insX = True\n",
    "            elif not insY and inY:\n",
    "                KY.insert_closed_cell(s)\n",
    "                insY = True\n",
    "            if (in_inter):\n",
    "                KI.insert_closed_cell(s)\n",
    "                KX.insert_closed_cell(s)\n",
    "                KY.insert_closed_cell(s)\n",
    "                break\n",
    "    return (KX,KY,KI)"
   ]
  },
  {
   "cell_type": "code",
   "execution_count": 12,
   "metadata": {
    "collapsed": false
   },
   "outputs": [
    {
     "name": "stdout",
     "output_type": "stream",
     "text": [
      "H_*(KX) [1L, 2L, 0L, 0L]\n",
      "H_*(KY) [1L, 1L, 0L, 0L]\n",
      "H_*(KI) [1L, 19L, 1L, 0L]\n"
     ]
    }
   ],
   "source": [
    "(KX,KY,KI) = compute_blowup_pieces(K,f,.115,.2)\n",
    "(X_bti, X_chains) = ctl.homology(KX, True)\n",
    "(Y_bti, Y_chains) = ctl.homology(KY, True)\n",
    "(I_bti, I_chains) = ctl.homology(KI, True)\n",
    "print \"H_*(KX)\", X_bti\n",
    "print \"H_*(KY)\", Y_bti\n",
    "print \"H_*(KI)\", I_bti"
   ]
  },
  {
   "cell_type": "code",
   "execution_count": null,
   "metadata": {
    "collapsed": false
   },
   "outputs": [],
   "source": [
    "def plot_2skel(X, K):\n",
    "    X -= X.mean(axis=0)\n",
    "    triangles = np.array([list(s) for (s,d) in K if s.dimension() == 2])\n",
    "    rad = np.linalg.norm(X, axis=1)\n",
    "    zen = np.arccos(X[:,-1] / rad)\n",
    "    azi = np.arctan2(X[:,1], X[:,0])\n",
    "    tris = Triangulation(zen, azi)\n",
    "    fig = plt.figure()\n",
    "    ax  = fig.add_subplot(111, projection='3d')\n",
    "    ax.plot_trisurf(X[:,0], X[:,1], X[:,2], triangles=triangles, cmap=plt.cm.bone)\n",
    "    plt.show()"
   ]
  },
  {
   "cell_type": "code",
   "execution_count": null,
   "metadata": {
    "collapsed": false
   },
   "outputs": [],
   "source": [
    "plot_2skel(D, KX)"
   ]
  },
  {
   "cell_type": "code",
   "execution_count": null,
   "metadata": {
    "collapsed": false
   },
   "outputs": [],
   "source": [
    "plot_2skel(D, KY)"
   ]
  },
  {
   "cell_type": "code",
   "execution_count": null,
   "metadata": {
    "collapsed": false
   },
   "outputs": [],
   "source": [
    "plot_2skel(D, KI)"
   ]
  },
  {
   "cell_type": "code",
   "execution_count": null,
   "metadata": {
    "collapsed": false
   },
   "outputs": [],
   "source": [
    "ctl.homology(KX)"
   ]
  },
  {
   "cell_type": "code",
   "execution_count": null,
   "metadata": {
    "collapsed": false
   },
   "outputs": [],
   "source": [
    "ctl.homology(KY)"
   ]
  },
  {
   "cell_type": "code",
   "execution_count": null,
   "metadata": {
    "collapsed": false
   },
   "outputs": [],
   "source": [
    "ctl.homology(KI)"
   ]
  },
  {
   "cell_type": "code",
   "execution_count": null,
   "metadata": {
    "collapsed": false
   },
   "outputs": [],
   "source": [
    "Kcheck = ctl.Simplicial_complex()\n",
    "for (s,d) in KX:\n",
    "    Kcheck.insert_open_cell(s)\n",
    "for (s,d) in KY:\n",
    "    Kcheck.insert_open_cell(s)\n",
    "for (s,d) in KI:\n",
    "    Kcheck.insert_open_cell(s)\n",
    "print Kcheck.is_closed()\n",
    "ctl.homology(Kcheck)"
   ]
  },
  {
   "cell_type": "code",
   "execution_count": null,
   "metadata": {
    "collapsed": true
   },
   "outputs": [],
   "source": []
  }
 ],
 "metadata": {
  "kernelspec": {
   "display_name": "Python 2",
   "language": "python",
   "name": "python2"
  },
  "language_info": {
   "codemirror_mode": {
    "name": "ipython",
    "version": 2
   },
   "file_extension": ".py",
   "mimetype": "text/x-python",
   "name": "python",
   "nbconvert_exporter": "python",
   "pygments_lexer": "ipython2",
   "version": "2.7.11"
  }
 },
 "nbformat": 4,
 "nbformat_minor": 0
}
