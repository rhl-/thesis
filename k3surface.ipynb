{
 "cells": [
  {
   "cell_type": "code",
   "execution_count": 3,
   "metadata": {
    "collapsed": false
   },
   "outputs": [
    {
     "name": "stdout",
     "output_type": "stream",
     "text": [
      "/Users/rhl/code/ctl/build/python\n"
     ]
    }
   ],
   "source": [
    "cd ~/code/ctl/build/python"
   ]
  },
  {
   "cell_type": "code",
   "execution_count": 4,
   "metadata": {
    "collapsed": false
   },
   "outputs": [],
   "source": [
    "%matplotlib inline\n",
    "import ctl"
   ]
  },
  {
   "cell_type": "code",
   "execution_count": 5,
   "metadata": {
    "collapsed": false
   },
   "outputs": [],
   "source": [
    "k3 = [[2, 10, 13, 15, 16],\n",
    "[3, 5, 10, 13, 15],\n",
    "[2, 5, 7, 8, 10],\n",
    "[1, 9, 11, 13, 14],\n",
    "[1, 2, 8, 10, 12],\n",
    "[1, 3, 5, 6, 11],\n",
    "[1, 5, 6, 9, 12],\n",
    "[1, 4, 5, 6, 14],\n",
    "[1, 4, 10, 13, 14],\n",
    "[1, 9, 10, 14, 15],\n",
    "[2, 4, 7, 8, 12],\n",
    "[3, 4, 6, 10, 12],\n",
    "[1, 6, 7, 8, 9],\n",
    "[3, 4, 5, 7, 15],\n",
    "[1, 7, 12, 15, 16],\n",
    "[4, 5, 7, 13, 16],\n",
    "[5, 8, 11, 12, 15],\n",
    "[2, 4, 7, 12, 14],\n",
    "[1, 4, 5, 14, 16],\n",
    "[2, 5, 6, 10, 11],\n",
    "[1, 6, 8, 12, 14],\n",
    "[5, 8, 9, 14, 16],\n",
    "[5, 10, 11, 12, 13],\n",
    "[2, 4, 8, 9, 12],\n",
    "[7, 9, 12, 15, 16],\n",
    "[1, 2, 6, 9, 15],\n",
    "[1, 5, 14, 15, 16],\n",
    "[2, 3, 4, 5, 9],\n",
    "[6, 8, 10, 11, 15],\n",
    "[1, 5, 8, 10, 12],\n",
    "[1, 3, 7, 9, 10],\n",
    "[6, 7, 8, 9, 13],\n",
    "[1, 2, 9, 11, 15],\n",
    "[2, 8, 11, 14, 16],\n",
    "[2, 4, 5, 13, 16],\n",
    "[1, 4, 8, 13, 15],\n",
    "[4, 7, 8, 10, 11],\n",
    "[2, 4, 8, 9, 10],\n",
    "[2, 3, 4, 9, 13],\n",
    "[2, 8, 10, 12, 13],\n",
    "[1, 2, 4, 11, 15],\n",
    "[2, 3, 9, 11, 15],\n",
    "[2, 8, 11, 15, 16],\n",
    "[3, 4, 5, 9, 11],\n",
    "[6, 10, 13, 15, 16],\n",
    "[8, 10, 11, 15, 16],\n",
    "[6, 7, 11, 13, 15],\n",
    "[1, 5, 7, 15, 16],\n",
    "[4, 5, 7, 9, 15],\n",
    "[3, 4, 6, 7, 16],\n",
    "[2, 3, 11, 14, 16],\n",
    "[3, 4, 9, 11, 13],\n",
    "[1, 2, 5, 14, 15],\n",
    "[2, 3, 9, 13, 14],\n",
    "[1, 7, 12, 13, 16],\n",
    "[1, 2, 5, 13, 16],\n",
    "[2, 3, 7, 8, 12],\n",
    "[2, 9, 11, 12, 14],\n",
    "[1, 9, 11, 15, 16],\n",
    "[2, 4, 7, 8, 10],\n",
    "[1, 4, 9, 13, 14],\n",
    "[1, 2, 3, 12, 16],\n",
    "[8, 11, 12, 14, 15],\n",
    "[1, 2, 6, 13, 16],\n",
    "[1, 4, 10, 12, 13],\n",
    "[3, 6, 8, 10, 16],\n",
    "[2, 7, 8, 14, 16],\n",
    "[1, 6, 8, 9, 12],\n",
    "[6, 9, 10, 14, 16],\n",
    "[5, 8, 11, 12, 16],\n",
    "[5, 9, 10, 14, 15],\n",
    "[3, 9, 12, 15, 16],\n",
    "[4, 6, 10, 11, 15],\n",
    "[2, 4, 9, 10, 16],\n",
    "[5, 8, 9, 13, 15],\n",
    "[2, 3, 6, 9, 15],\n",
    "[6, 11, 12, 14, 16],\n",
    "[2, 3, 10, 13, 15],\n",
    "[3, 5, 9, 11, 16],\n",
    "[3, 4, 8, 11, 13],\n",
    "[3, 4, 5, 7, 13],\n",
    "[5, 7, 8, 10, 14],\n",
    "[4, 12, 13, 14, 15],\n",
    "[6, 7, 10, 14, 16],\n",
    "[5, 10, 11, 13, 14],\n",
    "[3, 4, 7, 13, 16],\n",
    "[6, 8, 9, 12, 13],\n",
    "[1, 3, 4, 10, 14],\n",
    "[2, 4, 6, 11, 12],\n",
    "[1, 7, 9, 10, 14],\n",
    "[4, 6, 8, 13, 14],\n",
    "[4, 9, 10, 11, 16],\n",
    "[3, 7, 8, 10, 16],\n",
    "[5, 7, 9, 15, 16],\n",
    "[1, 7, 9, 11, 14],\n",
    "[6, 8, 10, 15, 16],\n",
    "[4, 6, 9, 14, 16],\n",
    "[5, 8, 9, 10, 14],\n",
    "[7, 8, 10, 14, 16],\n",
    "[2, 6, 7, 9, 11],\n",
    "[7, 9, 10, 13, 15],\n",
    "[3, 6, 7, 10, 12],\n",
    "[2, 4, 6, 10, 11],\n",
    "[4, 5, 8, 9, 11],\n",
    "[1, 2, 3, 8, 16],\n",
    "[1, 3, 8, 9, 12],\n",
    "[1, 2, 6, 8, 14],\n",
    "[3, 5, 6, 13, 15],\n",
    "[1, 5, 6, 12, 14],\n",
    "[2, 5, 7, 14, 15],\n",
    "[1, 5, 10, 11, 12],\n",
    "[3, 7, 8, 10, 11],\n",
    "[1, 2, 6, 14, 15],\n",
    "[1, 2, 6, 8, 16],\n",
    "[7, 9, 10, 12, 15],\n",
    "[3, 4, 6, 8, 14],\n",
    "[3, 7, 13, 14, 16],\n",
    "[2, 5, 7, 8, 14],\n",
    "[6, 7, 9, 10, 14],\n",
    "[2, 3, 7, 12, 14],\n",
    "[4, 10, 12, 13, 14],\n",
    "[2, 5, 6, 11, 13],\n",
    "[4, 5, 6, 7, 16],\n",
    "[1, 3, 12, 13, 16],\n",
    "[1, 4, 11, 15, 16],\n",
    "[1, 3, 4, 6, 10],\n",
    "[1, 10, 11, 12, 13],\n",
    "[3, 9, 11, 15, 16],\n",
    "[3, 5, 10, 14, 15],\n",
    "[5, 8, 9, 10, 13],\n",
    "[1, 2, 5, 7, 15],\n",
    "[2, 4, 11, 12, 14],\n",
    "[3, 11, 13, 14, 16],\n",
    "[1, 2, 5, 7, 13],\n",
    "[4, 7, 8, 9, 15],\n",
    "[1, 5, 6, 10, 11],\n",
    "[6, 7, 10, 13, 15],\n",
    "[3, 4, 7, 14, 15],\n",
    "[3, 4, 10, 12, 14],\n",
    "[1, 2, 6, 7, 13],\n",
    "[2, 3, 4, 5, 13],\n",
    "[5, 8, 12, 13, 15],\n",
    "[4, 6, 9, 13, 14],\n",
    "[2, 4, 5, 6, 12],\n",
    "[2, 9, 10, 13, 16],\n",
    "[8, 11, 12, 14, 16],\n",
    "[1, 7, 12, 13, 15],\n",
    "[8, 12, 13, 14, 15],\n",
    "[2, 8, 9, 12, 13],\n",
    "[4, 6, 10, 12, 15],\n",
    "[2, 8, 11, 14, 15],\n",
    "[2, 6, 9, 11, 12],\n",
    "[8, 9, 10, 11, 16],\n",
    "[2, 3, 6, 13, 15],\n",
    "[2, 3, 12, 15, 16],\n",
    "[1, 3, 5, 9, 12],\n",
    "[2, 5, 6, 9, 12],\n",
    "[5, 6, 8, 11, 15],\n",
    "[2, 6, 13, 15, 16],\n",
    "[2, 3, 11, 15, 16],\n",
    "[3, 5, 6, 8, 15],\n",
    "[2, 4, 5, 9, 12],\n",
    "[2, 10, 12, 13, 14],\n",
    "[6, 8, 12, 13, 14],\n",
    "[1, 2, 3, 8, 12],\n",
    "[1, 4, 7, 8, 11],\n",
    "[5, 6, 7, 12, 16],\n",
    "[3, 5, 7, 13, 14],\n",
    "[3, 4, 5, 8, 11],\n",
    "[6, 7, 11, 12, 15],\n",
    "[3, 4, 6, 7, 12],\n",
    "[1, 2, 4, 7, 11],\n",
    "[3, 9, 10, 12, 15],\n",
    "[4, 10, 12, 15, 16],\n",
    "[3, 5, 7, 14, 15],\n",
    "[3, 9, 11, 13, 14],\n",
    "[5, 9, 14, 15, 16],\n",
    "[4, 5, 6, 7, 12],\n",
    "[1, 3, 6, 10, 11],\n",
    "[1, 3, 9, 10, 15],\n",
    "[4, 7, 8, 9, 12],\n",
    "[5, 9, 10, 13, 15],\n",
    "[1, 3, 8, 13, 16],\n",
    "[2, 9, 12, 13, 14],\n",
    "[6, 7, 10, 12, 15],\n",
    "[2, 6, 8, 14, 15],\n",
    "[3, 5, 6, 8, 11],\n",
    "[3, 4, 7, 12, 14],\n",
    "[1, 3, 10, 14, 15],\n",
    "[7, 11, 12, 13, 16],\n",
    "[3, 11, 12, 13, 16],\n",
    "[3, 4, 5, 8, 15],\n",
    "[7, 11, 13, 14, 16],\n",
    "[2, 4, 7, 14, 15],\n",
    "[1, 2, 10, 12, 16],\n",
    "[1, 6, 8, 13, 16],\n",
    "[1, 7, 8, 13, 15],\n",
    "[6, 9, 11, 12, 14],\n",
    "[3, 6, 8, 14, 15],\n",
    "[2, 4, 11, 14, 15],\n",
    "[3, 7, 9, 10, 12],\n",
    "[1, 3, 6, 14, 15],\n",
    "[2, 4, 5, 6, 10],\n",
    "[1, 4, 9, 14, 16],\n",
    "[1, 3, 7, 8, 9],\n",
    "[5, 7, 9, 12, 16],\n",
    "[1, 3, 7, 10, 11],\n",
    "[7, 8, 9, 13, 15],\n",
    "[1, 4, 7, 8, 15],\n",
    "[1, 4, 10, 12, 16],\n",
    "[1, 7, 10, 11, 14],\n",
    "[1, 2, 6, 7, 9],\n",
    "[1, 3, 11, 12, 13],\n",
    "[1, 5, 7, 13, 16],\n",
    "[5, 7, 10, 11, 14],\n",
    "[2, 10, 12, 15, 16],\n",
    "[3, 6, 7, 10, 16],\n",
    "[1, 2, 5, 8, 10],\n",
    "[4, 10, 11, 15, 16],\n",
    "[5, 8, 10, 12, 13],\n",
    "[3, 6, 8, 10, 11],\n",
    "[4, 5, 7, 9, 12],\n",
    "[6, 7, 11, 12, 16],\n",
    "[2, 8, 9, 10, 13],\n",
    "[8, 9, 10, 14, 16],\n",
    "[3, 4, 6, 8, 16],\n",
    "[1, 10, 11, 13, 14],\n",
    "[1, 2, 5, 8, 14],\n",
    "[2, 4, 5, 10, 16],\n",
    "[1, 2, 7, 9, 11],\n",
    "[1, 3, 5, 6, 9],\n",
    "[5, 7, 11, 13, 14],\n",
    "[3, 5, 10, 13, 14],\n",
    "[2, 3, 9, 11, 14],\n",
    "[4, 11, 12, 14, 15],\n",
    "[2, 3, 7, 14, 16],\n",
    "[3, 4, 8, 13, 16],\n",
    "[6, 7, 9, 11, 14],\n",
    "[5, 6, 11, 13, 15],\n",
    "[4, 5, 6, 14, 16],\n",
    "[3, 4, 8, 14, 15],\n",
    "[4, 5, 8, 9, 15],\n",
    "[1, 4, 8, 11, 13],\n",
    "[5, 6, 12, 14, 16],\n",
    "[2, 3, 10, 12, 14],\n",
    "[1, 2, 5, 10, 16],\n",
    "[2, 5, 7, 10, 11],\n",
    "[2, 6, 7, 11, 13],\n",
    "[1, 4, 5, 10, 16],\n",
    "[2, 6, 8, 15, 16],\n",
    "[2, 3, 10, 12, 15],\n",
    "[7, 11, 12, 13, 15],\n",
    "[1, 3, 8, 11, 13],\n",
    "[4, 8, 9, 10, 11],\n",
    "[1, 9, 14, 15, 16],\n",
    "[1, 3, 6, 9, 15],\n",
    "[6, 9, 12, 13, 14],\n",
    "[2, 3, 10, 13, 14],\n",
    "[2, 5, 7, 11, 13],\n",
    "[2, 3, 5, 6, 13],\n",
    "[4, 6, 8, 13, 16],\n",
    "[6, 7, 9, 10, 13],\n",
    "[5, 8, 12, 14, 16],\n",
    "[4, 6, 9, 13, 16],\n",
    "[5, 8, 9, 11, 16],\n",
    "[2, 3, 5, 6, 9],\n",
    "[1, 3, 5, 11, 12],\n",
    "[3, 7, 8, 9, 12],\n",
    "[4, 6, 11, 12, 15],\n",
    "[3, 5, 9, 12, 16],\n",
    "[5, 11, 12, 13, 15],\n",
    "[1, 3, 4, 6, 14],\n",
    "[3, 5, 11, 12, 16],\n",
    "[1, 5, 8, 12, 14],\n",
    "[4, 8, 13, 14, 15],\n",
    "[1, 3, 7, 8, 11],\n",
    "[6, 9, 10, 13, 16],\n",
    "[2, 4, 9, 13, 16],\n",
    "[1, 6, 7, 8, 13],\n",
    "[1, 4, 12, 13, 15],\n",
    "[2, 4, 7, 10, 11],\n",
    "[1, 4, 9, 11, 13],\n",
    "[6, 7, 11, 14, 16],\n",
    "[1, 4, 9, 11, 16],\n",
    "[1, 4, 12, 15, 16],\n",
    "[1, 2, 4, 7, 15],\n",
    "[2, 3, 7, 8, 16],\n",
    "[1, 4, 5, 6, 10]]"
   ]
  },
  {
   "cell_type": "code",
   "execution_count": 6,
   "metadata": {
    "collapsed": false
   },
   "outputs": [],
   "source": [
    "K3 = ctl.Simplicial_complex(k3)"
   ]
  },
  {
   "cell_type": "code",
   "execution_count": 7,
   "metadata": {
    "collapsed": false
   },
   "outputs": [
    {
     "data": {
      "text/plain": [
       "[1L, 0L, 22L, 0L, 1L]"
      ]
     },
     "execution_count": 7,
     "metadata": {},
     "output_type": "execute_result"
    }
   ],
   "source": [
    "ctl.homology(K3)"
   ]
  },
  {
   "cell_type": "code",
   "execution_count": 9,
   "metadata": {
    "collapsed": false
   },
   "outputs": [],
   "source": [
    "def compute_blowup_pieces(K, f, h1=.12, h2=.18):\n",
    "    KX = ctl.Simplicial_complex()\n",
    "    KY = ctl.Simplicial_complex()\n",
    "    KI = ctl.Simplicial_complex()\n",
    "    for (i, (s,d)) in enumerate(K):\n",
    "        insX = False\n",
    "        insY = False\n",
    "        for vtx in s:\n",
    "            inX = (f[0][vtx] > h1)\n",
    "            inY = (f[0][vtx] < h2) \n",
    "            in_inter= inX and inY\n",
    "            if not insX and inX:\n",
    "                KX.insert_closed_cell(s)\n",
    "                insX = True\n",
    "            elif not insY and inY:\n",
    "                KY.insert_closed_cell(s)\n",
    "                insY = True\n",
    "            if (in_inter):\n",
    "                KI.insert_closed_cell(s)\n",
    "                KX.insert_closed_cell(s)\n",
    "                KY.insert_closed_cell(s)\n",
    "                break\n",
    "    return (KX,KY,KI)"
   ]
  },
  {
   "cell_type": "code",
   "execution_count": 10,
   "metadata": {
    "collapsed": false
   },
   "outputs": [
    {
     "ename": "NameError",
     "evalue": "name 'K' is not defined",
     "output_type": "error",
     "traceback": [
      "\u001b[0;31m---------------------------------------------------------------------------\u001b[0m",
      "\u001b[0;31mNameError\u001b[0m                                 Traceback (most recent call last)",
      "\u001b[0;32m<ipython-input-10-faa5a81cccf6>\u001b[0m in \u001b[0;36m<module>\u001b[0;34m()\u001b[0m\n\u001b[0;32m----> 1\u001b[0;31m \u001b[0;34m(\u001b[0m\u001b[0mKX\u001b[0m\u001b[0;34m,\u001b[0m\u001b[0mKY\u001b[0m\u001b[0;34m,\u001b[0m\u001b[0mKI\u001b[0m\u001b[0;34m)\u001b[0m \u001b[0;34m=\u001b[0m \u001b[0mcompute_blowup_pieces\u001b[0m\u001b[0;34m(\u001b[0m\u001b[0mK\u001b[0m\u001b[0;34m,\u001b[0m\u001b[0mf\u001b[0m\u001b[0;34m,\u001b[0m\u001b[0mh1\u001b[0m\u001b[0;34m=\u001b[0m\u001b[0;36m.115\u001b[0m\u001b[0;34m,\u001b[0m\u001b[0mh2\u001b[0m\u001b[0;34m=\u001b[0m\u001b[0;36m.16\u001b[0m\u001b[0;34m)\u001b[0m\u001b[0;34m\u001b[0m\u001b[0m\n\u001b[0m\u001b[1;32m      2\u001b[0m \u001b[0;34m(\u001b[0m\u001b[0mX_bti\u001b[0m\u001b[0;34m,\u001b[0m \u001b[0mX_chains\u001b[0m\u001b[0;34m)\u001b[0m \u001b[0;34m=\u001b[0m \u001b[0mctl\u001b[0m\u001b[0;34m.\u001b[0m\u001b[0mhomology\u001b[0m\u001b[0;34m(\u001b[0m\u001b[0mKX\u001b[0m\u001b[0;34m,\u001b[0m \u001b[0mTrue\u001b[0m\u001b[0;34m)\u001b[0m\u001b[0;34m\u001b[0m\u001b[0m\n\u001b[1;32m      3\u001b[0m \u001b[0;34m(\u001b[0m\u001b[0mY_bti\u001b[0m\u001b[0;34m,\u001b[0m \u001b[0mY_chains\u001b[0m\u001b[0;34m)\u001b[0m \u001b[0;34m=\u001b[0m \u001b[0mctl\u001b[0m\u001b[0;34m.\u001b[0m\u001b[0mhomology\u001b[0m\u001b[0;34m(\u001b[0m\u001b[0mKY\u001b[0m\u001b[0;34m,\u001b[0m \u001b[0mTrue\u001b[0m\u001b[0;34m)\u001b[0m\u001b[0;34m\u001b[0m\u001b[0m\n\u001b[1;32m      4\u001b[0m \u001b[0;34m(\u001b[0m\u001b[0mI_bti\u001b[0m\u001b[0;34m,\u001b[0m \u001b[0mI_chains\u001b[0m\u001b[0;34m)\u001b[0m \u001b[0;34m=\u001b[0m \u001b[0mctl\u001b[0m\u001b[0;34m.\u001b[0m\u001b[0mhomology\u001b[0m\u001b[0;34m(\u001b[0m\u001b[0mKI\u001b[0m\u001b[0;34m,\u001b[0m \u001b[0mTrue\u001b[0m\u001b[0;34m)\u001b[0m\u001b[0;34m\u001b[0m\u001b[0m\n\u001b[1;32m      5\u001b[0m \u001b[0;32mprint\u001b[0m \u001b[0;34m\"H_*(KX)\"\u001b[0m\u001b[0;34m,\u001b[0m \u001b[0mX_bti\u001b[0m\u001b[0;34m\u001b[0m\u001b[0m\n",
      "\u001b[0;31mNameError\u001b[0m: name 'K' is not defined"
     ]
    }
   ],
   "source": [
    "(KX,KY,KI) = compute_blowup_pieces(K,f)\n",
    "(X_bti, X_chains) = ctl.homology(KX, True)\n",
    "(Y_bti, Y_chains) = ctl.homology(KY, True)\n",
    "(I_bti, I_chains) = ctl.homology(KI, True)\n",
    "print \"H_*(KX)\", X_bti\n",
    "print \"H_*(KY)\", Y_bti\n",
    "print \"H_*(KI)\", I_bti"
   ]
  },
  {
   "cell_type": "code",
   "execution_count": null,
   "metadata": {
    "collapsed": true
   },
   "outputs": [],
   "source": []
  },
  {
   "cell_type": "code",
   "execution_count": null,
   "metadata": {
    "collapsed": false
   },
   "outputs": [],
   "source": [
    "def plot_2skel(X, K):\n",
    "    X -= X.mean(axis=0)\n",
    "    triangles = np.array([list(s) for (s,d) in K if s.dimension() == 2])\n",
    "    rad = np.linalg.norm(X, axis=1)\n",
    "    zen = np.arccos(X[:,-1] / rad)\n",
    "    azi = np.arctan2(X[:,1], X[:,0])\n",
    "    tris = Triangulation(zen, azi)\n",
    "    fig = plt.figure()\n",
    "    ax  = fig.add_subplot(111, projection='3d')\n",
    "    ax.plot_trisurf(X[:,0], X[:,1], X[:,2], triangles=triangles, cmap=plt.cm.bone)\n",
    "    plt.show()"
   ]
  },
  {
   "cell_type": "code",
   "execution_count": null,
   "metadata": {
    "collapsed": false
   },
   "outputs": [],
   "source": [
    "plot_2skel(D, KX)"
   ]
  },
  {
   "cell_type": "code",
   "execution_count": null,
   "metadata": {
    "collapsed": false
   },
   "outputs": [],
   "source": [
    "plot_2skel(D, KY)"
   ]
  },
  {
   "cell_type": "code",
   "execution_count": null,
   "metadata": {
    "collapsed": false
   },
   "outputs": [],
   "source": [
    "plot_2skel(D, KI)"
   ]
  },
  {
   "cell_type": "code",
   "execution_count": null,
   "metadata": {
    "collapsed": false
   },
   "outputs": [],
   "source": [
    "ctl.homology(KX)"
   ]
  },
  {
   "cell_type": "code",
   "execution_count": null,
   "metadata": {
    "collapsed": false
   },
   "outputs": [],
   "source": [
    "ctl.homology(KY)"
   ]
  },
  {
   "cell_type": "code",
   "execution_count": null,
   "metadata": {
    "collapsed": false
   },
   "outputs": [],
   "source": [
    "ctl.homology(KI)"
   ]
  },
  {
   "cell_type": "code",
   "execution_count": null,
   "metadata": {
    "collapsed": false
   },
   "outputs": [],
   "source": [
    "Kcheck = ctl.Simplicial_complex()\n",
    "for (s,d) in KX:\n",
    "    Kcheck.insert_open_cell(s)\n",
    "for (s,d) in KY:\n",
    "    Kcheck.insert_open_cell(s)\n",
    "for (s,d) in KI:\n",
    "    Kcheck.insert_open_cell(s)\n",
    "print Kcheck.is_closed()\n",
    "ctl.homology(Kcheck)"
   ]
  },
  {
   "cell_type": "code",
   "execution_count": null,
   "metadata": {
    "collapsed": true
   },
   "outputs": [],
   "source": []
  }
 ],
 "metadata": {
  "kernelspec": {
   "display_name": "Python 2",
   "language": "python",
   "name": "python2"
  },
  "language_info": {
   "codemirror_mode": {
    "name": "ipython",
    "version": 2
   },
   "file_extension": ".py",
   "mimetype": "text/x-python",
   "name": "python",
   "nbconvert_exporter": "python",
   "pygments_lexer": "ipython2",
   "version": "2.7.11"
  }
 },
 "nbformat": 4,
 "nbformat_minor": 0
}
